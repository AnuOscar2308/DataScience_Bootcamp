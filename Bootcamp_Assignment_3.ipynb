{
  "nbformat": 4,
  "nbformat_minor": 0,
  "metadata": {
    "colab": {
      "provenance": []
    },
    "kernelspec": {
      "name": "python3",
      "display_name": "Python 3"
    },
    "language_info": {
      "name": "python"
    }
  },
  "cells": [
    {
      "cell_type": "code",
      "execution_count": 1,
      "metadata": {
        "id": "ACA2AXo8rCET"
      },
      "outputs": [],
      "source": [
        "#Numpy Practice Questions\n",
        "#1. Define two custom numpy arrays, say A and B. Generate two new numpy arrays by stacking A and B vertically and horizontally.\n",
        "#2. Find common elements between A and B. [Hint : Intersection of two sets]\n",
        "#3. Extract all numbers from A which are within a specific range. eg between 5 and 10. [Hint: np.where() might be useful or boolean masks]\n",
        "#4. Filter the rows of iris_2d that has petallength (3rd column) > 1.5 and sepallength (1st column) < 5.0\n",
        "#\turl = 'https://archive.ics.uci.edu/ml/machine-learning-databases/iris/iris.data'\n",
        "#\tiris_2d = np.genfromtxt(url, delimiter=',', dtype='float', usecols=[0,1,2,3])"
      ]
    },
    {
      "cell_type": "code",
      "source": [
        "import numpy as np"
      ],
      "metadata": {
        "id": "IeDw4PH-rXz4"
      },
      "execution_count": 2,
      "outputs": []
    },
    {
      "cell_type": "code",
      "source": [
        "A = np.array([[5, 6], [3, 4]])\n",
        "B = np.array([[1, 2], [3, 4]])\n",
        "C = np.vstack((A, B)) #Vertical stack\n",
        "D = np.hstack((A, B)) #Horizontal stack\n",
        "\n",
        "print(\"A:\")\n",
        "print(A)\n",
        "\n",
        "print(\"\\nB:\")\n",
        "print(B)\n",
        "\n",
        "print(\"\\nC - Vertical stack:\")\n",
        "print(C)\n",
        "\n",
        "print(\"\\nD - Horizontal stack:\")\n",
        "print(D)\n"
      ],
      "metadata": {
        "colab": {
          "base_uri": "https://localhost:8080/"
        },
        "id": "F-RExY01rq_v",
        "outputId": "ad31e34f-7db5-4746-90fe-59e8fea23dca"
      },
      "execution_count": 3,
      "outputs": [
        {
          "output_type": "stream",
          "name": "stdout",
          "text": [
            "A:\n",
            "[[5 6]\n",
            " [3 4]]\n",
            "\n",
            "B:\n",
            "[[1 2]\n",
            " [3 4]]\n",
            "\n",
            "C - Vertical stack:\n",
            "[[5 6]\n",
            " [3 4]\n",
            " [1 2]\n",
            " [3 4]]\n",
            "\n",
            "D - Horizontal stack:\n",
            "[[5 6 1 2]\n",
            " [3 4 3 4]]\n"
          ]
        }
      ]
    },
    {
      "cell_type": "code",
      "source": [
        "common_elements = np.intersect1d(A, B)\n",
        "print(common_elements)"
      ],
      "metadata": {
        "colab": {
          "base_uri": "https://localhost:8080/"
        },
        "id": "UV4Fq2nasIMo",
        "outputId": "d7905ef6-e18f-4b9e-c1af-7cc770232f5d"
      },
      "execution_count": 4,
      "outputs": [
        {
          "output_type": "stream",
          "name": "stdout",
          "text": [
            "[3 4]\n"
          ]
        }
      ]
    },
    {
      "cell_type": "code",
      "source": [
        "indices = np.where((A >= 5) & ( A<= 10))\n",
        "numbers = A[indices]\n",
        "print(numbers)"
      ],
      "metadata": {
        "colab": {
          "base_uri": "https://localhost:8080/"
        },
        "id": "SiJgqup2s4cq",
        "outputId": "9bc5cde8-b80b-4d1f-90e5-4143a5e82900"
      },
      "execution_count": 5,
      "outputs": [
        {
          "output_type": "stream",
          "name": "stdout",
          "text": [
            "[5 6]\n"
          ]
        }
      ]
    },
    {
      "cell_type": "code",
      "source": [
        "url = 'https://archive.ics.uci.edu/ml/machine-learning-databases/iris/iris.data'\n",
        "iris_2d = np.genfromtxt(url, delimiter=',', dtype='float', usecols=[0,1,2,3])\n",
        "condition = (iris_2d[:, 2] > 1.5) & (iris_2d[:, 0] < 5.0)\n",
        "filtered_iris = iris_2d[condition]\n",
        "print(\"Filtered rows\")\n",
        "print(filtered_iris)"
      ],
      "metadata": {
        "colab": {
          "base_uri": "https://localhost:8080/"
        },
        "id": "5cp2mreCtX_B",
        "outputId": "040d551a-ba46-4e1d-9aad-0310ac63b46f"
      },
      "execution_count": 7,
      "outputs": [
        {
          "output_type": "stream",
          "name": "stdout",
          "text": [
            "Filtered rows\n",
            "[[4.8 3.4 1.6 0.2]\n",
            " [4.8 3.4 1.9 0.2]\n",
            " [4.7 3.2 1.6 0.2]\n",
            " [4.8 3.1 1.6 0.2]\n",
            " [4.9 2.4 3.3 1. ]\n",
            " [4.9 2.5 4.5 1.7]]\n"
          ]
        }
      ]
    },
    {
      "cell_type": "code",
      "source": [
        "#Practice Questions for Pandas\n",
        "#1. From df filter the 'Manufacturer', 'Model' and 'Type' for every 20th row starting from 1st (row 0).\n",
        "#```\n",
        "#df = pd.read_csv('https://raw.githubusercontent.com/selva86/datasets/master/Cars93_miss.csv')\n",
        "#```\n",
        "#2. Replace missing values in Min.Price and Max.Price columns with their respective mean.\n",
        "#```\n",
        "#df = pd.read_csv('https://raw.githubusercontent.com/selva86/datasets/master/Cars93_miss.csv')\n",
        "#```\n",
        "#3. How to get the rows of a dataframe with row sum > 100?\n",
        "#```\n",
        "#df = pd.DataFrame(np.random.randint(10, 40, 60).reshape(-1, 4))"
      ],
      "metadata": {
        "id": "g9_jf85cxXNg"
      },
      "execution_count": 8,
      "outputs": []
    },
    {
      "cell_type": "code",
      "source": [
        "import pandas as pd"
      ],
      "metadata": {
        "id": "sLfSN-hyx4We"
      },
      "execution_count": 9,
      "outputs": []
    },
    {
      "cell_type": "code",
      "source": [
        "df = pd.read_csv('https://raw.githubusercontent.com/selva86/datasets/master/Cars93_miss.csv')\n",
        "every_20th_row = df.iloc[::20]\n",
        "filtered_df = every_20th_row[['Manufacturer', 'Model', 'Type']]\n",
        "print(filtered_df)"
      ],
      "metadata": {
        "colab": {
          "base_uri": "https://localhost:8080/"
        },
        "id": "FVbJSueJx7Cy",
        "outputId": "19b02d13-88c9-421f-a025-d63c9d8a155a"
      },
      "execution_count": 10,
      "outputs": [
        {
          "output_type": "stream",
          "name": "stdout",
          "text": [
            "   Manufacturer    Model     Type\n",
            "0         Acura  Integra    Small\n",
            "20     Chrysler  LeBaron  Compact\n",
            "40        Honda  Prelude   Sporty\n",
            "60      Mercury   Cougar  Midsize\n",
            "80       Subaru   Loyale    Small\n"
          ]
        }
      ]
    },
    {
      "cell_type": "code",
      "source": [
        "df = pd.read_csv('https://raw.githubusercontent.com/selva86/datasets/master/Cars93_miss.csv')\n",
        "min_price_mean = df['Min.Price'].mean()\n",
        "df['Min.Price'].fillna(min_price_mean, inplace=True)\n",
        "max_price_mean = df['Max.Price'].mean()\n",
        "df['Max.Price'].fillna(max_price_mean, inplace=True)\n",
        "print(df[['Min.Price', 'Max.Price']])"
      ],
      "metadata": {
        "colab": {
          "base_uri": "https://localhost:8080/"
        },
        "id": "JjtelT2myJcl",
        "outputId": "ab23e92c-dacc-4719-b375-c37cca0b5e01"
      },
      "execution_count": 11,
      "outputs": [
        {
          "output_type": "stream",
          "name": "stdout",
          "text": [
            "    Min.Price  Max.Price\n",
            "0   12.900000  18.800000\n",
            "1   29.200000  38.700000\n",
            "2   25.900000  32.300000\n",
            "3   17.118605  44.600000\n",
            "4   17.118605  21.459091\n",
            "..        ...        ...\n",
            "88  16.600000  22.700000\n",
            "89  17.600000  22.400000\n",
            "90  22.900000  23.700000\n",
            "91  21.800000  23.500000\n",
            "92  24.800000  28.500000\n",
            "\n",
            "[93 rows x 2 columns]\n"
          ]
        }
      ]
    },
    {
      "cell_type": "code",
      "source": [
        "df = pd.DataFrame(np.random.randint(10, 40, 60).reshape(-1, 4))\n",
        "row_sums = df.sum(axis=1)\n",
        "rows_with_sum_over_100 = df[row_sums > 100]\n",
        "print(rows_with_sum_over_100)"
      ],
      "metadata": {
        "colab": {
          "base_uri": "https://localhost:8080/"
        },
        "id": "roG83d7s134A",
        "outputId": "8210c1ca-9933-4bc2-f388-edd73da70892"
      },
      "execution_count": 12,
      "outputs": [
        {
          "output_type": "stream",
          "name": "stdout",
          "text": [
            "     0   1   2   3\n",
            "2   36  27  36  22\n",
            "10  31  26  27  24\n",
            "12  24  19  20  38\n"
          ]
        }
      ]
    }
  ]
}